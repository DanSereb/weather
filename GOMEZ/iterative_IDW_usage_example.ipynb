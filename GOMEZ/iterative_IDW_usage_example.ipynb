{
 "cells": [
  {
   "cell_type": "markdown",
   "metadata": {},
   "source": [
    "# Usage example of the GOMEZ (Iterative IDW) algorithm\n",
    "The GOMEZ algorithm will generate a rain map from microwave links' average rain rate."
   ]
  },
  {
   "cell_type": "code",
   "execution_count": 1,
   "metadata": {
    "collapsed": false
   },
   "outputs": [],
   "source": [
    "import pandas as pd\n",
    "import numpy as np\n",
    "import matplotlib.pyplot as plt\n",
    "import matplotlib.colors as mlcolors\n",
    "import matplotlib.image as mpimg\n",
    "from mpl_toolkits.basemap import Basemap\n",
    "from iterative_IDW import IdwIterative, create_virtual_gauges, calc_atten_from_rain\n",
    "from pyproj import Proj, transform"
   ]
  },
  {
   "cell_type": "markdown",
   "metadata": {},
   "source": [
    "## Define functions for free path loss (optional)"
   ]
  },
  {
   "cell_type": "code",
   "execution_count": 2,
   "metadata": {
    "collapsed": true
   },
   "outputs": [],
   "source": [
    "def path_loss_atten(length, freq, gain = 0):\n",
    "    ''' calculate the attenuation of a link due to path loss\n",
    "    see en.wikipedia.org/wiki/Free-space_path_loss for details '''    \n",
    "    # convert=length*freq*(10**12) #conversion units - GHz*km to Hz*m\n",
    "    # length in KM, freq in GHz, gain in dB\n",
    "    path_loss = 20*np.log10(length*freq) + 92.45 + gain\n",
    "    return path_loss\n",
    "\n",
    "def remove_free_path_loss(df):\n",
    "    ''' remove free path loss attenuation from df['A'] '''\n",
    "    df['A'] =  df.apply(lambda cml: cml['A'] - path_loss_atten(cml['L'], cml['F']), axis=1)\n",
    "    \n",
    "    # set negative attenuations to 0\n",
    "    df['A'] = df['A'].apply(lambda a: max(0.0,a))\n",
    "    \n",
    "    return df"
   ]
  },
  {
   "cell_type": "markdown",
   "metadata": {},
   "source": [
    "## Define function for conversion of latitude/longitude to UTM"
   ]
  },
  {
   "cell_type": "code",
   "execution_count": 3,
   "metadata": {
    "collapsed": true
   },
   "outputs": [],
   "source": [
    "def lat_lon_to_UTM(df, p_LL, p_UTM):\n",
    "    ''' convert latitude/longitude to UTM (easting/northing in units of meter) '''\n",
    "    df['xa'], df['ya'] = transform(p1=p_LL, # lat/lon\n",
    "                                   p2=p_UTM, # utm in meters\n",
    "                                   x=df['xa'].values, y=df['ya'].values)\n",
    "    df['xb'], df['yb'] = transform(p1=p_LL, # lat/lon\n",
    "                                   p2=p_UTM, # utm in meters\n",
    "                                   x=df['xb'].values, y=df['yb'].values)\n",
    "    return df"
   ]
  },
  {
   "cell_type": "markdown",
   "metadata": {},
   "source": [
    "## Load link data (metadata and rawdata)\n",
    "Load a CSV file with the following data (mandatory data):\n",
    "<table align='left'>\n",
    "<tr><td bgcolor='#DDDDDD'>Column name:</td><td bgcolor='#DDDDDD'>Description:</td></tr>\n",
    "<tr><td>xa</td><td>longitude of site A of the link</td></tr>\n",
    "<tr><td>ya</td><td>latitude of site A of the link</td></tr>\n",
    "<tr><td>xb</td><td>longitude of site B of the link</td></tr>\n",
    "<tr><td>yb</td><td>latitude of site B of the link</td></tr>\n",
    "<tr><td>Length</td><td>length of the link in kilometers</td></tr>\n",
    "<tr><td>ITU_a1</td><td>ITU power law parameter a of the link</td></tr>\n",
    "<tr><td>ITU_b1</td><td>ITU power law parameter a of the link</td></tr>\n",
    "<tr><td>A_1</td><td>attenuation of the link in dB (may include free path loss)</td></tr>\n",
    "<tr><td>Rain1</td><td>average rain along the link in mm/hr</td></tr>\n",
    "<tr><td>Freq_1</td><td>the transmission frequency of the link in GHz</td></tr>\n",
    "<tr><td colspan=2><b>Note:</b> columns ending with \"1\" indicate data for channel 1 of the link.<br>\n",
    "Data for channel 2 should have the following column names: <i>ITU_a2, ITU_b2, A_2, Rain2, Freq_2</i></td></tr>\n",
    "</table>"
   ]
  },
  {
   "cell_type": "code",
   "execution_count": 4,
   "metadata": {
    "collapsed": false
   },
   "outputs": [
    {
     "data": {
      "text/html": [
       "<div>\n",
       "<style scoped>\n",
       "    .dataframe tbody tr th:only-of-type {\n",
       "        vertical-align: middle;\n",
       "    }\n",
       "\n",
       "    .dataframe tbody tr th {\n",
       "        vertical-align: top;\n",
       "    }\n",
       "\n",
       "    .dataframe thead th {\n",
       "        text-align: right;\n",
       "    }\n",
       "</style>\n",
       "<table border=\"1\" class=\"dataframe\">\n",
       "  <thead>\n",
       "    <tr style=\"text-align: right;\">\n",
       "      <th></th>\n",
       "      <th>SP</th>\n",
       "      <th>Link_num</th>\n",
       "      <th>Length</th>\n",
       "      <th>Freq_1</th>\n",
       "      <th>Polar_1</th>\n",
       "      <th>ITU_a1</th>\n",
       "      <th>ITU_b1</th>\n",
       "      <th>Freq_2</th>\n",
       "      <th>Polar_2</th>\n",
       "      <th>ITU_a2</th>\n",
       "      <th>ITU_b2</th>\n",
       "      <th>xa</th>\n",
       "      <th>ya</th>\n",
       "      <th>xb</th>\n",
       "      <th>yb</th>\n",
       "      <th>Rain1</th>\n",
       "      <th>Rain2</th>\n",
       "      <th>A_1</th>\n",
       "      <th>A_2</th>\n",
       "    </tr>\n",
       "  </thead>\n",
       "  <tbody>\n",
       "    <tr>\n",
       "      <th>0</th>\n",
       "      <td>-</td>\n",
       "      <td>0</td>\n",
       "      <td>9.990667</td>\n",
       "      <td>20.0</td>\n",
       "      <td>V</td>\n",
       "      <td>0.0691</td>\n",
       "      <td>1.065</td>\n",
       "      <td>21.0</td>\n",
       "      <td>V</td>\n",
       "      <td>0.077186</td>\n",
       "      <td>1.056791</td>\n",
       "      <td>34.000000</td>\n",
       "      <td>31.0</td>\n",
       "      <td>34.009944</td>\n",
       "      <td>31.0895</td>\n",
       "      <td>9.896294</td>\n",
       "      <td>9.888328</td>\n",
       "      <td>7.93751</td>\n",
       "      <td>8.713724</td>\n",
       "    </tr>\n",
       "    <tr>\n",
       "      <th>1</th>\n",
       "      <td>-</td>\n",
       "      <td>1</td>\n",
       "      <td>9.990667</td>\n",
       "      <td>20.0</td>\n",
       "      <td>V</td>\n",
       "      <td>0.0691</td>\n",
       "      <td>1.065</td>\n",
       "      <td>21.0</td>\n",
       "      <td>V</td>\n",
       "      <td>0.077186</td>\n",
       "      <td>1.056791</td>\n",
       "      <td>34.019889</td>\n",
       "      <td>31.0</td>\n",
       "      <td>34.029833</td>\n",
       "      <td>31.0895</td>\n",
       "      <td>16.183524</td>\n",
       "      <td>16.176972</td>\n",
       "      <td>13.33751</td>\n",
       "      <td>14.713724</td>\n",
       "    </tr>\n",
       "    <tr>\n",
       "      <th>2</th>\n",
       "      <td>-</td>\n",
       "      <td>2</td>\n",
       "      <td>9.990667</td>\n",
       "      <td>20.0</td>\n",
       "      <td>V</td>\n",
       "      <td>0.0691</td>\n",
       "      <td>1.065</td>\n",
       "      <td>21.0</td>\n",
       "      <td>V</td>\n",
       "      <td>0.077186</td>\n",
       "      <td>1.056791</td>\n",
       "      <td>34.039778</td>\n",
       "      <td>31.0</td>\n",
       "      <td>34.049722</td>\n",
       "      <td>31.0895</td>\n",
       "      <td>19.090166</td>\n",
       "      <td>19.085060</td>\n",
       "      <td>16.03751</td>\n",
       "      <td>17.413724</td>\n",
       "    </tr>\n",
       "    <tr>\n",
       "      <th>3</th>\n",
       "      <td>-</td>\n",
       "      <td>3</td>\n",
       "      <td>9.990667</td>\n",
       "      <td>20.0</td>\n",
       "      <td>V</td>\n",
       "      <td>0.0691</td>\n",
       "      <td>1.065</td>\n",
       "      <td>21.0</td>\n",
       "      <td>V</td>\n",
       "      <td>0.077186</td>\n",
       "      <td>1.056791</td>\n",
       "      <td>34.059667</td>\n",
       "      <td>31.0</td>\n",
       "      <td>34.069611</td>\n",
       "      <td>31.0895</td>\n",
       "      <td>16.262688</td>\n",
       "      <td>16.255989</td>\n",
       "      <td>13.33751</td>\n",
       "      <td>14.713724</td>\n",
       "    </tr>\n",
       "    <tr>\n",
       "      <th>4</th>\n",
       "      <td>-</td>\n",
       "      <td>4</td>\n",
       "      <td>9.990667</td>\n",
       "      <td>20.0</td>\n",
       "      <td>V</td>\n",
       "      <td>0.0691</td>\n",
       "      <td>1.065</td>\n",
       "      <td>21.0</td>\n",
       "      <td>V</td>\n",
       "      <td>0.077186</td>\n",
       "      <td>1.056791</td>\n",
       "      <td>34.079556</td>\n",
       "      <td>31.0</td>\n",
       "      <td>34.089500</td>\n",
       "      <td>31.0895</td>\n",
       "      <td>9.992749</td>\n",
       "      <td>9.984573</td>\n",
       "      <td>7.93751</td>\n",
       "      <td>8.713724</td>\n",
       "    </tr>\n",
       "  </tbody>\n",
       "</table>\n",
       "</div>"
      ],
      "text/plain": [
       "  SP  Link_num    Length  Freq_1 Polar_1  ITU_a1  ITU_b1  Freq_2 Polar_2  \\\n",
       "0  -         0  9.990667    20.0       V  0.0691   1.065    21.0       V   \n",
       "1  -         1  9.990667    20.0       V  0.0691   1.065    21.0       V   \n",
       "2  -         2  9.990667    20.0       V  0.0691   1.065    21.0       V   \n",
       "3  -         3  9.990667    20.0       V  0.0691   1.065    21.0       V   \n",
       "4  -         4  9.990667    20.0       V  0.0691   1.065    21.0       V   \n",
       "\n",
       "     ITU_a2    ITU_b2         xa    ya         xb       yb      Rain1  \\\n",
       "0  0.077186  1.056791  34.000000  31.0  34.009944  31.0895   9.896294   \n",
       "1  0.077186  1.056791  34.019889  31.0  34.029833  31.0895  16.183524   \n",
       "2  0.077186  1.056791  34.039778  31.0  34.049722  31.0895  19.090166   \n",
       "3  0.077186  1.056791  34.059667  31.0  34.069611  31.0895  16.262688   \n",
       "4  0.077186  1.056791  34.079556  31.0  34.089500  31.0895   9.992749   \n",
       "\n",
       "       Rain2       A_1        A_2  \n",
       "0   9.888328   7.93751   8.713724  \n",
       "1  16.176972  13.33751  14.713724  \n",
       "2  19.085060  16.03751  17.413724  \n",
       "3  16.255989  13.33751  14.713724  \n",
       "4   9.984573   7.93751   8.713724  "
      ]
     },
     "execution_count": 4,
     "metadata": {},
     "output_type": "execute_result"
    }
   ],
   "source": [
    "df = pd.read_csv('data/rain_simulation.csv', index_col=None)\n",
    "df.head()"
   ]
  },
  {
   "cell_type": "markdown",
   "metadata": {},
   "source": [
    "## Data pre-processing\n",
    "perform the following pre-processing steps:\n",
    "<ul>\n",
    "<li>Rename columns to names required by the algorithm</li>\n",
    "<li>Find min/max latitude and longitude for the rain map grid</li>\n",
    "<li>Convert link coordinates from latitude/longitude to UTM</li>\n",
    "<li>Divide each link to virtual rain gauges</li>\n",
    "</ul>"
   ]
  },
  {
   "cell_type": "code",
   "execution_count": 5,
   "metadata": {
    "collapsed": false
   },
   "outputs": [
    {
     "data": {
      "text/html": [
       "<div>\n",
       "<style scoped>\n",
       "    .dataframe tbody tr th:only-of-type {\n",
       "        vertical-align: middle;\n",
       "    }\n",
       "\n",
       "    .dataframe tbody tr th {\n",
       "        vertical-align: top;\n",
       "    }\n",
       "\n",
       "    .dataframe thead th {\n",
       "        text-align: right;\n",
       "    }\n",
       "</style>\n",
       "<table border=\"1\" class=\"dataframe\">\n",
       "  <thead>\n",
       "    <tr style=\"text-align: right;\">\n",
       "      <th></th>\n",
       "      <th>x</th>\n",
       "      <th>y</th>\n",
       "      <th>z</th>\n",
       "    </tr>\n",
       "  </thead>\n",
       "  <tbody>\n",
       "    <tr>\n",
       "      <th>0</th>\n",
       "      <td>(3785139.4397488562, 3785416.1925264113, 37856...</td>\n",
       "      <td>(3613638.061007402, 3616530.9366838178, 361942...</td>\n",
       "      <td>(9.896293711233275, 9.896293711233275, 9.89629...</td>\n",
       "    </tr>\n",
       "    <tr>\n",
       "      <th>1</th>\n",
       "      <td>(3787353.461969294, 3787630.2147468487, 378790...</td>\n",
       "      <td>(3613638.061007402, 3616530.9366838178, 361942...</td>\n",
       "      <td>(16.18352352542024, 16.18352352542024, 16.1835...</td>\n",
       "    </tr>\n",
       "    <tr>\n",
       "      <th>2</th>\n",
       "      <td>(3789567.484189733, 3789844.236967288, 3790120...</td>\n",
       "      <td>(3613638.061007402, 3616530.9366838178, 361942...</td>\n",
       "      <td>(19.090166096680587, 19.090166096680587, 19.09...</td>\n",
       "    </tr>\n",
       "    <tr>\n",
       "      <th>3</th>\n",
       "      <td>(3791781.5064101713, 3792058.2591877263, 37923...</td>\n",
       "      <td>(3613638.061007402, 3616530.9366838178, 361942...</td>\n",
       "      <td>(16.262687821016915, 16.262687821016915, 16.26...</td>\n",
       "    </tr>\n",
       "    <tr>\n",
       "      <th>4</th>\n",
       "      <td>(3793995.52863061, 3794272.2814081647, 3794549...</td>\n",
       "      <td>(3613638.061007402, 3616530.9366838178, 361942...</td>\n",
       "      <td>(9.99274877550564, 9.99274877550564, 9.9927487...</td>\n",
       "    </tr>\n",
       "  </tbody>\n",
       "</table>\n",
       "</div>"
      ],
      "text/plain": [
       "                                                   x  \\\n",
       "0  (3785139.4397488562, 3785416.1925264113, 37856...   \n",
       "1  (3787353.461969294, 3787630.2147468487, 378790...   \n",
       "2  (3789567.484189733, 3789844.236967288, 3790120...   \n",
       "3  (3791781.5064101713, 3792058.2591877263, 37923...   \n",
       "4  (3793995.52863061, 3794272.2814081647, 3794549...   \n",
       "\n",
       "                                                   y  \\\n",
       "0  (3613638.061007402, 3616530.9366838178, 361942...   \n",
       "1  (3613638.061007402, 3616530.9366838178, 361942...   \n",
       "2  (3613638.061007402, 3616530.9366838178, 361942...   \n",
       "3  (3613638.061007402, 3616530.9366838178, 361942...   \n",
       "4  (3613638.061007402, 3616530.9366838178, 361942...   \n",
       "\n",
       "                                                   z  \n",
       "0  (9.896293711233275, 9.896293711233275, 9.89629...  \n",
       "1  (16.18352352542024, 16.18352352542024, 16.1835...  \n",
       "2  (19.090166096680587, 19.090166096680587, 19.09...  \n",
       "3  (16.262687821016915, 16.262687821016915, 16.26...  \n",
       "4  (9.99274877550564, 9.99274877550564, 9.9927487...  "
      ]
     },
     "execution_count": 5,
     "metadata": {},
     "output_type": "execute_result"
    }
   ],
   "source": [
    "# for coordinate conversion from Longitude/Latitude to UTM (and vice versa)\n",
    "p_LL = Proj(init='epsg:4326')\n",
    "utm_epsg = '3395' # can also use epsg '3857'\n",
    "p_UTM = Proj(init='epsg:'+utm_epsg)\n",
    "\n",
    "# rename columns for the IterativeIdw algorithm (using only channel 1 of each cml)\n",
    "col_names = {'Length':'L', 'A_1':'A',\n",
    "             'ITU_a1':'a', 'ITU_b1':'b',\n",
    "             'Freq_1':'F', 'Rain1':'R'}\n",
    "df = df.rename(columns = col_names)\n",
    "\n",
    "# take only relevant columns for the algoritm\n",
    "df = df[['xa','ya','xb','yb','L','a','b','F','R']]\n",
    "\n",
    "# optional: remove free path loss from df['A']\n",
    "#df = remove_free_path_loss(df)\n",
    "\n",
    "# find min/max latitude and longitude (for rain map grid)\n",
    "xs = np.concatenate((df['xa'].values, df['xb'].values))\n",
    "ys = np.concatenate((df['ya'].values, df['yb'].values))\n",
    "min_lon, max_lon = xs.min(), xs.max()\n",
    "min_lat, max_lat = ys.min(), ys.max()\n",
    "\n",
    "# convert df[['xa','ya','xb','yb']] to UTM (in meters)\n",
    "df = lat_lon_to_UTM(df, p_LL, p_UTM)\n",
    "\n",
    "# compute links rain induced attenuation in df['A'] using df[['R','L','a','b']]\n",
    "df = calc_atten_from_rain(df)\n",
    "\n",
    "# create virtual gauges in df[['x','y','z']] using df[['xa','ya','xb','yb']]\n",
    "number_of_virtual_gauges = 3 # the number of virtual gauges along each cml\n",
    "df = create_virtual_gauges(df, num_gauges=number_of_virtual_gauges)\n",
    "\n",
    "# can also define distance between to virtual gauges (each link's length will determine the number of virtual gauges)\n",
    "# df = create_virtual_gauges(df, gauge_length = 2.0)\n",
    "\n",
    "df[['x','y','z']].head()"
   ]
  },
  {
   "cell_type": "markdown",
   "metadata": {},
   "source": [
    "## Load (or create) a 2D grid for the rain map\n",
    "Load a grid from a file (e.g: CSV file) or create a grid with custom x/y range and resolution using the <b>create_grid</b> function.<br>\n",
    "<font color=\"red\">This algorithm will use the cmls to estimate the rain rate at each point of this grid.</font>"
   ]
  },
  {
   "cell_type": "code",
   "execution_count": 6,
   "metadata": {
    "collapsed": false
   },
   "outputs": [],
   "source": [
    "def create_grid(x_min, x_max, y_min, y_max, res_x, res_y):\n",
    "    # create the grid for the rain\n",
    "    px = int(np.rint((x_max - x_min) / res_x)) # number of grid x values\n",
    "    py = int(np.rint((y_max - y_min) / res_y)) # number of grid y values\n",
    "\n",
    "    xi = np.linspace(x_min, x_max, px)\n",
    "    yi = np.linspace(y_min, y_max, py)\n",
    "\n",
    "    xgrid, ygrid = np.meshgrid(xi, yi)\n",
    "    return xgrid, ygrid"
   ]
  },
  {
   "cell_type": "markdown",
   "metadata": {},
   "source": [
    "## How to use the create_grid function:\n",
    "<b>#get min/max lon and lat values (for grid of (x,y) points)</b>\n",
    "<br>\n",
    "xs = np.concatenate((df['xa'].values, df['xb'].values))<br>\n",
    "ys = np.concatenate((df['ya'].values, df['yb'].values))<br>\n",
    "x_min, x_max = xs.min(), xs.max()<br>\n",
    "y_min, y_max = ys.min(), ys.max()<br>\n",
    "\n",
    "<b>#choose the resolution of the grid (in meters)</b>\n",
    "<br>\n",
    "res_x, res_y = 100, 100<br>\n",
    "xgrid, ygrid = create_grid(x_min, x_max, y_min, y_max, res_x, res_y)<br><br>\n",
    "<font color=\"red\">Instead of using the create_grid function, we will use the grid of the ground truth rain map.</font>"
   ]
  },
  {
   "cell_type": "code",
   "execution_count": 7,
   "metadata": {
    "collapsed": false
   },
   "outputs": [
    {
     "name": "stdout",
     "output_type": "stream",
     "text": [
      "Shape of xgrid:(151L, 130L), min x: 3783370.0, max x: 3796270.0, resolution: 100.0\n",
      "Shape of ygrid:(151L, 130L), min y: 3609020.0, max y: 3624020.0, resolution: 100.0\n"
     ]
    }
   ],
   "source": [
    "# load grid from rain ground truth map\n",
    "xgrid = pd.read_csv(\"data/rain_simulation_X.csv\", header=None, index_col=None).values\n",
    "ygrid = pd.read_csv(\"data/rain_simulation_Y.csv\", header=None, index_col=None).values\n",
    "\n",
    "res_x = abs(xgrid[0,0] - xgrid[0,1])\n",
    "res_y = abs(xgrid[0,0] - xgrid[0,1])\n",
    "print(\"Shape of xgrid:{}, min x: {}, max x: {}, resolution: {}\".format(xgrid.shape, xgrid.min(), xgrid.max(), res_x))\n",
    "print(\"Shape of ygrid:{}, min y: {}, max y: {}, resolution: {}\".format(ygrid.shape, ygrid.min(), ygrid.max(), res_y))"
   ]
  },
  {
   "cell_type": "markdown",
   "metadata": {},
   "source": [
    "## Set up the algorithm parameters\n",
    "The GOMEZ (iterative IDW) algorithm requires the following parameters:\n",
    "<ul>\n",
    "<li><b>ROI</b> - Radius of influence in meters, determines the radius for which.<br>\n",
    "Set ROI to 0 to use automatic estimation of the ROI.</li>\n",
    "<li><b>max_iterations</b> - max number of iterations the algorithm will perform.<br></li>\n",
    "<li><b>tolerance</b> - a stop condition for the algorithm (norm of change between iterations, in mm/hr).<br>\n",
    "Set tolerance to 0 to allow the algorithm to perform maximum number of iterations.</li>\n",
    "<li><b>quantization</b> - dB quantization of the attenuation measurements.</li>\n",
    "</ul>\n",
    "\n",
    "## How to run the algorithm\n",
    "Create a variable with an instance of the IdwItertive class with the desired parameters (ROI, max_iterations, etc.):<br>\n",
    "Call the variable (as if calling a function) and provide the following arguments:\n",
    "<ul>\n",
    "<li><b>df</b> - a pandas dataframe with all the cml data (as we have loaded in the beginning of the notebook).</li>\n",
    "<li><b>xgrid, ygrid</b> - the algorithm will estimate the rate rate at each (x, y) point in xgrid, ygrid.</li>\n",
    "<li><b>quantization</b> - see quantization in \"Set up algorithm parameters\".</li>\n",
    "</ul>\n",
    "\n",
    "<b>Example:</b>\n",
    "<code><i>\n",
    "cml_interp = IdwIterative(ROI=1000, max_iterations=5, tolerance=0.1)\n",
    "cml_interp(df, xgrid, ygrid, quantization)\n",
    "</i></code>"
   ]
  },
  {
   "cell_type": "markdown",
   "metadata": {},
   "source": [
    "## Run the algorithm"
   ]
  },
  {
   "cell_type": "code",
   "execution_count": 8,
   "metadata": {
    "collapsed": false,
    "scrolled": false
   },
   "outputs": [
    {
     "name": "stdout",
     "output_type": "stream",
     "text": [
      "Radius of influence: 10285.7798687\n",
      "Running iteration 0\n",
      "Processing finished.\n",
      "\n",
      "Radius of influence: 10285.7798687\n",
      "Running iteration 0\n",
      "Running iteration 1\n",
      "Running iteration 2\n",
      "Running iteration 3\n",
      "Running iteration 4\n",
      "Processing finished.\n",
      "\n"
     ]
    }
   ],
   "source": [
    "# set up parameters\n",
    "ROI = 0\n",
    "tolerance = 0\n",
    "quantization = 0.3\n",
    "max_iters = [1, 5] # a list of # of iterations to test\n",
    "\n",
    "# run the algorithm\n",
    "zgrids = []\n",
    "for max_iterations in max_iters:\n",
    "    cml_interp = IdwIterative(ROI, max_iterations, tolerance) # initialization\n",
    "    zgrids.append(cml_interp(df, xgrid, ygrid, quantization)) # perform the actual calculation\n",
    "\n",
    "ROI = cml_interp.ROI # the ROI used by the algorithm (user defined or estimated)"
   ]
  },
  {
   "cell_type": "markdown",
   "metadata": {},
   "source": [
    "## Draw the results"
   ]
  },
  {
   "cell_type": "code",
   "execution_count": 10,
   "metadata": {
    "collapsed": false
   },
   "outputs": [
    {
     "data": {
      "image/png": "[encoded data removed]",
      "text/plain": [
       "<matplotlib.figure.Figure at 0xfd3b828>"
      ]
     },
     "metadata": {},
     "output_type": "display_data"
    }
   ],
   "source": [
    "# normalize colormap\n",
    "c_map = plt.cm.get_cmap('jet') # use 'jet' colormap\n",
    "mi = min([Z.min() for Z in zgrids])\n",
    "ma = max([Z.max() for Z in zgrids])\n",
    "norm = mlcolors.Normalize(vmin=mi, vmax=ma)\n",
    "levels = np.linspace(mi, ma, 100)\n",
    "\n",
    "# set up matplotlib-basemap background map for all the rain maps\n",
    "pct = 0.05 # increase limits of map by 5% for better visualization\n",
    "dx = (xgrid.max() - xgrid.min()) * pct\n",
    "dy = (ygrid.max() - ygrid.min()) * pct\n",
    " \n",
    "# convert from UTM to longitude/latitude\n",
    "min_lon, min_lat = transform(p1=p_UTM, p2=p_LL,\n",
    "                             x=xgrid.min() - dx, y=ygrid.min() - dy)\n",
    "\n",
    "max_lon, max_lat = transform(p1=p_UTM, p2=p_LL,\n",
    "                             x=xgrid.max() + dx, y=ygrid.max() + dy)\n",
    "\n",
    "# set up matplotlib figure figure (fig_map and ax_map are only used to create background map)\n",
    "fig_map, ax_map = plt.subplots()\n",
    "\n",
    "# EPSG:3395 refer to http://spatialreference.org/ref/epsg/wgs-84-world-mercator/\n",
    "m = Basemap(projection='merc',\n",
    "            llcrnrlat=min_lat,urcrnrlat=max_lat,\n",
    "            llcrnrlon=min_lon,urcrnrlon=max_lon,\n",
    "            lat_ts=20, resolution='c', epsg = utm_epsg)\n",
    "\n",
    "m.arcgisimage(service='World_Shaded_Relief', xpixels=500, verbose=False)\n",
    "\n",
    "plt.axis('off')\n",
    "plt.savefig(\"bg_map.png\", bbox_inches='tight', pad_inches=0) # save background map\n",
    "plt.close(fig_map)\n",
    "\n",
    "max_x, max_y = m(max_lon, max_lat)\n",
    "min_x, min_y = m(min_lon, min_lat)\n",
    "\n",
    "# load the background map (instead of creating the image for every subplot)\n",
    "img = mpimg.imread(\"bg_map.png\")\n",
    "\n",
    "# draw the rain maps over time\n",
    "fig_rows = 1\n",
    "fig_cols = len(zgrids) + 1 # number of subplots to draw (+1 for ground truth)\n",
    "\n",
    "# calculate figure size\n",
    "fsize_x = fig_cols * int(abs(max_x - min_x)/1e3) * 0.45\n",
    "fsize_y = fig_rows * int(abs(max_y - min_y)/1e3) * 0.3\n",
    "\n",
    "# create figure with subplots\n",
    "fig, ax = plt.subplots(fig_rows, fig_cols,\n",
    "                       sharex=True, sharey=True,\n",
    "                       figsize=(fsize_x, fsize_y))\n",
    "\n",
    "# max rain value (for colorbar)  \n",
    "max_R = 50\n",
    "\n",
    "# convert cmls to map coordinates\n",
    "xx, yy = transform(p1=p_UTM, p2=p_LL, x=df['xa'].values, y=df['ya'].values)\n",
    "xx, yy = m(xx, yy)\n",
    "cml_site_a = zip(xx.tolist(),yy.tolist())\n",
    "\n",
    "xx, yy = transform(p1=p_UTM, p2=p_LL, x=df['xb'].values, y=df['yb'].values)\n",
    "xx, yy = m(xx, yy)\n",
    "cml_site_b = zip(xx.tolist(),yy.tolist())\n",
    "\n",
    "# convert grid to map coordinates\n",
    "X, Y = transform(p1=p_UTM, p2=p_LL, x=cml_interp.xgrid, y=cml_interp.ygrid) # convert from meters to lat/lon\n",
    "X, Y = m(X, Y) # from lat/lon to basemap map coordinates\n",
    "                 \n",
    "# draw a the map+links+rain for each generated zgrids value\n",
    "if type(ax) != np.ndarray:\n",
    "    ax = np.array([ax])\n",
    "\n",
    "for i, axi in enumerate(ax[:-1]):\n",
    "    # background geographic map\n",
    "    axi.imshow(img, extent=[min_x, max_x, min_y, max_y])\n",
    "    \n",
    "    # plot all cmls as lines\n",
    "    for A, B in zip(cml_site_a, cml_site_b):\n",
    "        axi.plot([A[0],B[0]], [A[1],B[1]], color='k', alpha=0.2, linewidth=2)\n",
    "        \n",
    "    Z = zgrids[i]        \n",
    "    Z = np.ma.masked_where(np.isnan(Z), Z) # set the transparent values \n",
    "    pc = axi.pcolormesh(X - res_x/2.0, Y - res_y/2.0, Z,\n",
    "                        cmap=c_map,\n",
    "                        vmin=0, vmax=max_R) # levels = np.linspace(0,max_R,100)\n",
    "\n",
    "    # optional: plot grid points (where the IDW has calculated the rain values)\n",
    "    #axi.scatter(X[:-1,:-1], Y[:-1,:-1], color = 'k', s = 1)\n",
    "    \n",
    "    title = \"Number of iterations: {}\\nROI: {:.2f} KM\\nMax rain rate: {:.2f} mm/hr\".format(max_iters[i], ROI/1000.0, Z.max())\n",
    "    axi.set_title(title)\n",
    "    \n",
    "    # create colorbar with mm/hour label\n",
    "    fig.colorbar(pc, ax=axi, label='mm / hour')\n",
    "    \n",
    "\n",
    "# add ground truth rain map\n",
    "ground_truth = pd.read_csv(\"data/rain_simulation_Z.csv\", header=None, index_col=None).values\n",
    "Z = np.ma.masked_where(np.isnan(ground_truth), ground_truth) # set the transparent values \n",
    "pc = ax[-1].pcolormesh(X - res_x/2.0, Y - res_y/2.0, Z, cmap = c_map, vmin = 0, vmax = max_R)\n",
    "title = \"Ground truth\\nMax rain rate: {} mm/hr\".format(25)\n",
    "ax[-1].set_title(title)\n",
    "fig.colorbar(pc, ax=ax[-1], label='mm / hour')\n",
    "\n",
    "plt.show()"
   ]
  },
  {
   "cell_type": "markdown",
   "metadata": {},
   "source": [
    "## Compare algorithm results to ground truth with MSE"
   ]
  },
  {
   "cell_type": "code",
   "execution_count": 11,
   "metadata": {
    "collapsed": false
   },
   "outputs": [
    {
     "name": "stdout",
     "output_type": "stream",
     "text": [
      "After 1 iteration(s) the MSE is 26.37\n",
      "After 5 iteration(s) the MSE is 24.43\n"
     ]
    }
   ],
   "source": [
    "def MSE(ground_truth, algorithm_result):\n",
    "    return ((ground_truth - algorithm_result)**2.0).mean(axis=None)\n",
    "\n",
    "for zgrid, max_iter in zip(zgrids, max_iters):\n",
    "    print(\"After {} iteration(s) the MSE is {:.2f}\".format(max_iter, MSE(ground_truth, zgrid)))"
   ]
  }
 ],
 "metadata": {
  "kernelspec": {
   "display_name": "Python 2",
   "language": "python",
   "name": "python2"
  },
  "language_info": {
   "codemirror_mode": {
    "name": "ipython",
    "version": 2
   },
   "file_extension": ".py",
   "mimetype": "text/x-python",
   "name": "python",
   "nbconvert_exporter": "python",
   "pygments_lexer": "ipython2",
   "version": "2.7.13"
  }
 },
 "nbformat": 4,
 "nbformat_minor": 2
}
